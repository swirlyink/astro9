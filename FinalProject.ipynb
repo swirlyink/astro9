{
 "cells": [
  {
   "cell_type": "code",
   "execution_count": null,
   "metadata": {},
   "outputs": [],
   "source": [
    "#FIONA\n",
    "#Cave 1\n",
    "#BGS\n",
    "#RFQ Trap\n",
    "#Cave 2\n",
    "#Fiona Mass Seperation (deltaM/M)\n",
    "https://en.wikipedia.org/wiki/Wien_filter\n",
    "\n",
    "#Equations for FIONA Mass Separator \n",
    "x = awt + ((vsin(0))/w)* (1 − cos(wt)) −((a−vcos(0))/w)*sin(wt)\n",
    "y = ((vsin(0))/w) *sin(wt) + ((a − v cos(0))/w)* (1 − cos(wt)) \n",
    "\n",
    "v is the initial velocity in the x–y plane perpendicular to the magnetic field v= E/B\n",
    "0 is the angle between v and the x-axis\n",
    "w and a are defined by the relations w = ZeB/m and a = mE/ZeB2\n",
    "m = mass\n",
    "Ze = Charge\n",
    "#Equations for Einzel Lenses\n",
    "https://en.wikipedia.org/wiki/Einzel_lens\n",
    "http://www.massspecpro.com/technology/ion-optics/einzel-lens-0\n",
    "http://people.whitman.edu/~dunnivfm/C_MS_Ebook/CH5/5_2_1_3.html\n",
    "https://www.osti.gov/servlets/purl/16410\n",
    "https://www.researchgate.net/publication/291829537_Generated_and_shifted_of_Ion_beams_By_Electrostatic_Lenses_Einzel_lens\n",
    "https://engineering.purdue.edu/BioMS/Pdf/Lecture%20Notes%20for%20MS%20Short%20Course/L9-L10%20Instrumentation_Fina.pdf"
   ]
  }
 ],
 "metadata": {
  "kernelspec": {
   "display_name": "Python 3",
   "language": "python",
   "name": "python3"
  },
  "language_info": {
   "codemirror_mode": {
    "name": "ipython",
    "version": 3
   },
   "file_extension": ".py",
   "mimetype": "text/x-python",
   "name": "python",
   "nbconvert_exporter": "python",
   "pygments_lexer": "ipython3",
   "version": "3.7.3"
  }
 },
 "nbformat": 4,
 "nbformat_minor": 2
}
